{
  "nbformat": 4,
  "nbformat_minor": 0,
  "metadata": {
    "colab": {
      "name": "Untitled11.ipynb",
      "version": "0.3.2",
      "provenance": [],
      "include_colab_link": true
    },
    "kernelspec": {
      "name": "python2",
      "display_name": "Python 2"
    }
  },
  "cells": [
    {
      "cell_type": "markdown",
      "metadata": {
        "id": "view-in-github",
        "colab_type": "text"
      },
      "source": [
        "<a href=\"https://colab.research.google.com/github/sayaliii21/College-Enquiry-Chat-Bot/blob/master/Data_PreProcess.ipynb\" target=\"_parent\"><img src=\"https://colab.research.google.com/assets/colab-badge.svg\" alt=\"Open In Colab\"/></a>"
      ]
    },
    {
      "metadata": {
        "id": "U4thnthjorm9",
        "colab_type": "code",
        "colab": {}
      },
      "cell_type": "code",
      "source": [
        "import re\n"
      ],
      "execution_count": 0,
      "outputs": []
    },
    {
      "metadata": {
        "id": "lpQ-kXrnufrh",
        "colab_type": "code",
        "colab": {}
      },
      "cell_type": "code",
      "source": [
        "lines=open ('movie_lines.txt' ).read().split('\\n')\n",
        "conversations=open ('movie_conversations.txt').read().split('\\n')"
      ],
      "execution_count": 0,
      "outputs": []
    },
    {
      "metadata": {
        "id": "IOyrLtZJuk0n",
        "colab_type": "code",
        "colab": {}
      },
      "cell_type": "code",
      "source": [
        "id2line = {}\n",
        "for line in lines:\n",
        "    _line = line.split(' +++$+++ ')\n",
        "    if len(_line)==5:\n",
        "        id2line[_line[0]]=_line[4]\n"
      ],
      "execution_count": 0,
      "outputs": []
    },
    {
      "metadata": {
        "id": "C4kRlL1cuswc",
        "colab_type": "code",
        "colab": {}
      },
      "cell_type": "code",
      "source": [
        "conversations_ids = []\n",
        "for conversation in conversations[:-1]:\n",
        "    _conversation = conversation.split(' +++$+++ ')[-1][1:-1].replace(\"'\",\"\").replace(\" \",\"\")\n",
        "    conversations_ids.append(_conversation.split(','))"
      ],
      "execution_count": 0,
      "outputs": []
    },
    {
      "metadata": {
        "id": "k_nBoNTqu26l",
        "colab_type": "code",
        "colab": {}
      },
      "cell_type": "code",
      "source": [
        "questions = []\n",
        "answers =[]\n",
        "for conversation in conversations_ids:\n",
        "    for i in range(len(conversation) - 1):\n",
        "        questions.append(id2line[conversation[i]])\n",
        "        answers.append(id2line[conversation[i+1]])"
      ],
      "execution_count": 0,
      "outputs": []
    },
    {
      "metadata": {
        "id": "XYT6Cgpmu7e-",
        "colab_type": "code",
        "colab": {}
      },
      "cell_type": "code",
      "source": [
        "def clean_text (text):\n",
        "    text=text.lower()\n",
        "    text=re.sub(r\"i'm\",\"i am\",text)\n",
        "    text=re.sub(r\"he's\",\"he is\",text)\n",
        "    text=re.sub(r\"she's\",\"she is\",text)\n",
        "    text=re.sub(r\"that's\",\"that is\",text)\n",
        "    text=re.sub(r\"what's\",\"what is\",text)\n",
        "    text=re.sub(r\"where's\",\"where is\",text)\n",
        "    text=re.sub(r\"\\'ll\",\" will\",text)\n",
        "    text=re.sub(r\"\\'ve\",\" have\",text)\n",
        "    text=re.sub(r\"\\'re\",\" are\",text)\n",
        "    text=re.sub(r\"\\'d\",\" would\",text)\n",
        "    text=re.sub(r\"won't\",\"will not\",text)\n",
        "    text=re.sub(r\"can't\",\"cannot\",text)\n",
        "    text=re.sub(r\"[-{}\\\"#@/;:<>()+=~|.?,]\",\"\",text)\n",
        "    return text"
      ],
      "execution_count": 0,
      "outputs": []
    },
    {
      "metadata": {
        "id": "e5K2Krgau_kL",
        "colab_type": "code",
        "colab": {}
      },
      "cell_type": "code",
      "source": [
        "clean_questions = []\n",
        "for question in questions:\n",
        "    clean_questions.append(clean_text(question))\n",
        "\n",
        "clean_answers = []\n",
        "for answer in answers:\n",
        "    clean_answers.append(clean_text(answer))\n"
      ],
      "execution_count": 0,
      "outputs": []
    },
    {
      "metadata": {
        "id": "hrGrH4nDvF2f",
        "colab_type": "code",
        "colab": {}
      },
      "cell_type": "code",
      "source": [
        "word2count={}\n",
        "for question in clean_questions:\n",
        "    for word in question.split():\n",
        "        if word not in word2count:\n",
        "            word2count[word] = 1\n",
        "        else:\n",
        "            word2count[word] += 1\n",
        "            \n",
        "for answer in clean_answers:\n",
        "    for word in answer.split():\n",
        "        if word not in word2count:\n",
        "            word2count[word] = 1\n",
        "        else:\n",
        "            word2count[word] += 1"
      ],
      "execution_count": 0,
      "outputs": []
    },
    {
      "metadata": {
        "id": "eDku6N_6vKAo",
        "colab_type": "code",
        "colab": {}
      },
      "cell_type": "code",
      "source": [
        "threshold = 20\n",
        "questionswords2int = {}\n",
        "answerswords2int = {}\n",
        "word_number = 0\n",
        "      \n",
        "for word,count in word2count.items():\n",
        "    if count >= threshold:\n",
        "        questionswords2int[word] = word_number\n",
        "        word_number += 1\n",
        "\n",
        "for word,count in word2count.items():\n",
        "    if count >= threshold:\n",
        "          answerswords2int[word] = word_number\n",
        "          word_number += 1"
      ],
      "execution_count": 0,
      "outputs": []
    },
    {
      "metadata": {
        "id": "Fg_Kin9EvPpB",
        "colab_type": "code",
        "colab": {}
      },
      "cell_type": "code",
      "source": [
        "tokens = ['<PAD>','<EOS>','<OUT>','<SOS>']\n",
        "for token in tokens:\n",
        "    questionswords2int[token] = len(questionswords2int) + 1\n",
        "    \n",
        "for token in tokens:\n",
        "    answerswords2int[token] = len(answerswords2int) + 1\n",
        "\n",
        "answersints2word = {w_i:w for w , w_i in answerswords2int.items()}\n"
      ],
      "execution_count": 0,
      "outputs": []
    },
    {
      "metadata": {
        "id": "BEGkQsXgvgH7",
        "colab_type": "code",
        "colab": {}
      },
      "cell_type": "code",
      "source": [
        "for i in range (len(clean_answers)):\n",
        "    clean_answers[i] += ' <EOS>'"
      ],
      "execution_count": 0,
      "outputs": []
    },
    {
      "metadata": {
        "id": "vcCjqVzUvuEU",
        "colab_type": "code",
        "colab": {}
      },
      "cell_type": "code",
      "source": [
        "question_into_int = []\n",
        "for question in clean_questions:\n",
        "    ints = []\n",
        "    for word in question.split():\n",
        "        if word not in questionswords2int:\n",
        "            ints.append(questionswords2int['<OUT>'])\n",
        "        else:\n",
        "            ints.append(questionswords2int['word'])\n",
        "    question_into_int.append(ints)\n",
        "    \n",
        "    answer_into_int = []\n",
        "for answer in clean_answers:\n",
        "    ints = []\n",
        "    for word in answer.split():\n",
        "        if word not in answerswords2int:\n",
        "            ints.append(answerswords2int['<OUT>'])\n",
        "        else:\n",
        "            ints.append(answerswords2int['word'])\n",
        "    answer_into_int.append(ints)"
      ],
      "execution_count": 0,
      "outputs": []
    },
    {
      "metadata": {
        "id": "r8LJpCqRvyRV",
        "colab_type": "code",
        "colab": {}
      },
      "cell_type": "code",
      "source": [
        "sorted_clean_questions = []\n",
        "sorted_clean_answers = []\n",
        "for length in range (1,25+1):\n",
        "    for i in enumerate (question_into_int):\n",
        "        if len(i[1]) == length:\n",
        "            sorted_clean_questions.append(question_into_int[i[0]])\n",
        "            sorted_clean_answers.append(answer_into_int[i[0]])\n",
        "            \n"
      ],
      "execution_count": 0,
      "outputs": []
    }
  ]
}